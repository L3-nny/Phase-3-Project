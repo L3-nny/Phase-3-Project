{
 "cells": [
  {
   "cell_type": "markdown",
   "metadata": {},
   "source": [
    "## Project Submission\n",
    "\n",
    "* Student name: LENNY MUBEA\n",
    "* Student pace: full time\n",
    "* Scheduled project review date/time: 2/09/2024\n",
    "* Instructor name: ANTONNY MUIKO\n",
    "* Blog post URL: https://github.com/L3-nny/Phase-3-Project\n"
   ]
  },
  {
   "cell_type": "markdown",
   "metadata": {},
   "source": [
    "# 1. Business Understanding\n",
    " A bank has provided data from their marketing campaign aimed at encouraging customers to opt into their insurance coverage. The goal of this project is to analyze the data and present findings to a non-technical team, enabling them to make data-driven decisions to improve the effectiveness of their insurance marketing strategies."
   ]
  },
  {
   "cell_type": "markdown",
   "metadata": {},
   "source": [
    "Questions to explore:\n",
    "1. Which occupations have the highest and lowest conversion rate?\n",
    "2. How does age impact conversion rate?\n",
    "3. What is the impact of the outcome of previous campaigns on current conversion rates?\n",
    "4. Does the frequency of calls to a customer correlate with their likelihood to convert?"
   ]
  },
  {
   "cell_type": "markdown",
   "metadata": {},
   "source": [
    "# 2. Data Understanding"
   ]
  },
  {
   "cell_type": "markdown",
   "metadata": {},
   "source": [
    "In this analysis, we'll be working with a dataset sourced from Kaggle, which contains information about bank customers and their likelihood of converting to an insurance service offered by the bank. The dataset is composed of several key features that describe customer demographics, interaction history, and the outcome of previous marketing campaigns.\n",
    "\n",
    "Key Features in the Dataset:\n",
    "\n",
    "1.Occupation: The type of job the customer holds.\n",
    "\n",
    "2.Age: The customer's age.\n",
    "\n",
    "3.Education Level: The highest level of education the customer has attained.\n",
    "\n",
    "4.Marital Status: The marital status of the customer (e.g., married, single, divorced).\n",
    "\n",
    "5.Communication Channel: The medium through which the customer was contacted (e.g., mobile, landline).\n",
    "\n",
    "6.Call Month: The month in which the customer was contacted.\n",
    "\n",
    "7.Call Duration: The length of time the customer spent on the call.\n",
    "\n",
    "8.Call Frequency: The number of times the customer was contacted during the campaign.\n",
    "\n",
    "9.Previous Campaign Outcome: The result of previous marketing campaigns (i.e successful or failed).\n",
    "\n",
    "10.Conversion Status: The target variable indicating whether the customer converted to the insurance service or not."
   ]
  },
  {
   "cell_type": "markdown",
   "metadata": {},
   "source": [
    "We'll begin our analysis with a comprehensive investigation of the data using the pandas library."
   ]
  },
  {
   "cell_type": "code",
   "execution_count": 1,
   "metadata": {},
   "outputs": [],
   "source": [
    "# Import the necessary libraries\n",
    "import pandas as pd"
   ]
  },
  {
   "cell_type": "code",
   "execution_count": 2,
   "metadata": {},
   "outputs": [
    {
     "data": {
      "text/html": [
       "<div>\n",
       "<style scoped>\n",
       "    .dataframe tbody tr th:only-of-type {\n",
       "        vertical-align: middle;\n",
       "    }\n",
       "\n",
       "    .dataframe tbody tr th {\n",
       "        vertical-align: top;\n",
       "    }\n",
       "\n",
       "    .dataframe thead th {\n",
       "        text-align: right;\n",
       "    }\n",
       "</style>\n",
       "<table border=\"1\" class=\"dataframe\">\n",
       "  <thead>\n",
       "    <tr style=\"text-align: right;\">\n",
       "      <th></th>\n",
       "      <th>occupation</th>\n",
       "      <th>age</th>\n",
       "      <th>education_level</th>\n",
       "      <th>marital_status</th>\n",
       "      <th>communication_channel</th>\n",
       "      <th>call_month</th>\n",
       "      <th>call_day</th>\n",
       "      <th>call_duration</th>\n",
       "      <th>call_frequency</th>\n",
       "      <th>previous_campaign_outcome</th>\n",
       "      <th>conversion_status</th>\n",
       "    </tr>\n",
       "  </thead>\n",
       "  <tbody>\n",
       "    <tr>\n",
       "      <th>0</th>\n",
       "      <td>administrative_staff</td>\n",
       "      <td>28</td>\n",
       "      <td>high_school</td>\n",
       "      <td>married</td>\n",
       "      <td>unidentified</td>\n",
       "      <td>September</td>\n",
       "      <td>9</td>\n",
       "      <td>1</td>\n",
       "      <td>1</td>\n",
       "      <td>successful</td>\n",
       "      <td>not_converted</td>\n",
       "    </tr>\n",
       "    <tr>\n",
       "      <th>1</th>\n",
       "      <td>administrative_staff</td>\n",
       "      <td>58</td>\n",
       "      <td>unidentified</td>\n",
       "      <td>married</td>\n",
       "      <td>unidentified</td>\n",
       "      <td>June</td>\n",
       "      <td>5</td>\n",
       "      <td>307</td>\n",
       "      <td>2</td>\n",
       "      <td>unidentified</td>\n",
       "      <td>not_converted</td>\n",
       "    </tr>\n",
       "    <tr>\n",
       "      <th>2</th>\n",
       "      <td>jobless</td>\n",
       "      <td>40</td>\n",
       "      <td>high_school</td>\n",
       "      <td>divorced</td>\n",
       "      <td>mobile</td>\n",
       "      <td>February</td>\n",
       "      <td>4</td>\n",
       "      <td>113</td>\n",
       "      <td>1</td>\n",
       "      <td>unidentified</td>\n",
       "      <td>not_converted</td>\n",
       "    </tr>\n",
       "    <tr>\n",
       "      <th>3</th>\n",
       "      <td>retired_worker</td>\n",
       "      <td>63</td>\n",
       "      <td>high_school</td>\n",
       "      <td>married</td>\n",
       "      <td>mobile</td>\n",
       "      <td>April</td>\n",
       "      <td>7</td>\n",
       "      <td>72</td>\n",
       "      <td>5</td>\n",
       "      <td>unidentified</td>\n",
       "      <td>not_converted</td>\n",
       "    </tr>\n",
       "    <tr>\n",
       "      <th>4</th>\n",
       "      <td>business_owner</td>\n",
       "      <td>43</td>\n",
       "      <td>college</td>\n",
       "      <td>married</td>\n",
       "      <td>landline</td>\n",
       "      <td>July</td>\n",
       "      <td>29</td>\n",
       "      <td>184</td>\n",
       "      <td>4</td>\n",
       "      <td>unidentified</td>\n",
       "      <td>not_converted</td>\n",
       "    </tr>\n",
       "    <tr>\n",
       "      <th>...</th>\n",
       "      <td>...</td>\n",
       "      <td>...</td>\n",
       "      <td>...</td>\n",
       "      <td>...</td>\n",
       "      <td>...</td>\n",
       "      <td>...</td>\n",
       "      <td>...</td>\n",
       "      <td>...</td>\n",
       "      <td>...</td>\n",
       "      <td>...</td>\n",
       "      <td>...</td>\n",
       "    </tr>\n",
       "    <tr>\n",
       "      <th>45206</th>\n",
       "      <td>administrative_staff</td>\n",
       "      <td>50</td>\n",
       "      <td>high_school</td>\n",
       "      <td>divorced</td>\n",
       "      <td>mobile</td>\n",
       "      <td>May</td>\n",
       "      <td>6</td>\n",
       "      <td>114</td>\n",
       "      <td>1</td>\n",
       "      <td>unsuccessful</td>\n",
       "      <td>not_converted</td>\n",
       "    </tr>\n",
       "    <tr>\n",
       "      <th>45207</th>\n",
       "      <td>independent_worker</td>\n",
       "      <td>49</td>\n",
       "      <td>college</td>\n",
       "      <td>married</td>\n",
       "      <td>unidentified</td>\n",
       "      <td>May</td>\n",
       "      <td>13</td>\n",
       "      <td>98</td>\n",
       "      <td>1</td>\n",
       "      <td>unidentified</td>\n",
       "      <td>not_converted</td>\n",
       "    </tr>\n",
       "    <tr>\n",
       "      <th>45208</th>\n",
       "      <td>executive</td>\n",
       "      <td>30</td>\n",
       "      <td>college</td>\n",
       "      <td>married</td>\n",
       "      <td>mobile</td>\n",
       "      <td>June</td>\n",
       "      <td>12</td>\n",
       "      <td>175</td>\n",
       "      <td>2</td>\n",
       "      <td>other_outcome</td>\n",
       "      <td>not_converted</td>\n",
       "    </tr>\n",
       "    <tr>\n",
       "      <th>45209</th>\n",
       "      <td>retired_worker</td>\n",
       "      <td>59</td>\n",
       "      <td>elementary_school</td>\n",
       "      <td>married</td>\n",
       "      <td>landline</td>\n",
       "      <td>July</td>\n",
       "      <td>15</td>\n",
       "      <td>41</td>\n",
       "      <td>5</td>\n",
       "      <td>unidentified</td>\n",
       "      <td>not_converted</td>\n",
       "    </tr>\n",
       "    <tr>\n",
       "      <th>45210</th>\n",
       "      <td>technical_specialist</td>\n",
       "      <td>34</td>\n",
       "      <td>college</td>\n",
       "      <td>divorced</td>\n",
       "      <td>unidentified</td>\n",
       "      <td>May</td>\n",
       "      <td>29</td>\n",
       "      <td>578</td>\n",
       "      <td>3</td>\n",
       "      <td>unidentified</td>\n",
       "      <td>not_converted</td>\n",
       "    </tr>\n",
       "  </tbody>\n",
       "</table>\n",
       "<p>45211 rows × 11 columns</p>\n",
       "</div>"
      ],
      "text/plain": [
       "                 occupation  age    education_level marital_status  \\\n",
       "0      administrative_staff   28        high_school        married   \n",
       "1      administrative_staff   58       unidentified        married   \n",
       "2                   jobless   40        high_school       divorced   \n",
       "3            retired_worker   63        high_school        married   \n",
       "4            business_owner   43            college        married   \n",
       "...                     ...  ...                ...            ...   \n",
       "45206  administrative_staff   50        high_school       divorced   \n",
       "45207    independent_worker   49            college        married   \n",
       "45208             executive   30            college        married   \n",
       "45209        retired_worker   59  elementary_school        married   \n",
       "45210  technical_specialist   34            college       divorced   \n",
       "\n",
       "      communication_channel call_month  call_day  call_duration  \\\n",
       "0              unidentified  September         9              1   \n",
       "1              unidentified       June         5            307   \n",
       "2                    mobile   February         4            113   \n",
       "3                    mobile      April         7             72   \n",
       "4                  landline       July        29            184   \n",
       "...                     ...        ...       ...            ...   \n",
       "45206                mobile        May         6            114   \n",
       "45207          unidentified        May        13             98   \n",
       "45208                mobile       June        12            175   \n",
       "45209              landline       July        15             41   \n",
       "45210          unidentified        May        29            578   \n",
       "\n",
       "       call_frequency previous_campaign_outcome conversion_status  \n",
       "0                   1                successful     not_converted  \n",
       "1                   2              unidentified     not_converted  \n",
       "2                   1              unidentified     not_converted  \n",
       "3                   5              unidentified     not_converted  \n",
       "4                   4              unidentified     not_converted  \n",
       "...               ...                       ...               ...  \n",
       "45206               1              unsuccessful     not_converted  \n",
       "45207               1              unidentified     not_converted  \n",
       "45208               2             other_outcome     not_converted  \n",
       "45209               5              unidentified     not_converted  \n",
       "45210               3              unidentified     not_converted  \n",
       "\n",
       "[45211 rows x 11 columns]"
      ]
     },
     "execution_count": 2,
     "metadata": {},
     "output_type": "execute_result"
    }
   ],
   "source": [
    "# Load the dataset into a dataframe\n",
    "df = pd.read_csv(\"E:\\SCHOOL\\phase-3\\Assignments\\Phase 3 Project\\dataset.csv\")\n",
    "df"
   ]
  },
  {
   "cell_type": "code",
   "execution_count": 3,
   "metadata": {},
   "outputs": [
    {
     "data": {
      "text/plain": [
       "Index(['occupation', 'age', 'education_level', 'marital_status',\n",
       "       'communication_channel', 'call_month', 'call_day', 'call_duration',\n",
       "       'call_frequency', 'previous_campaign_outcome', 'conversion_status'],\n",
       "      dtype='object')"
      ]
     },
     "execution_count": 3,
     "metadata": {},
     "output_type": "execute_result"
    }
   ],
   "source": [
    "# Print the column names in the dataframe\n",
    "df.columns"
   ]
  },
  {
   "cell_type": "code",
   "execution_count": 4,
   "metadata": {},
   "outputs": [
    {
     "data": {
      "text/plain": [
       "(45211, 11)"
      ]
     },
     "execution_count": 4,
     "metadata": {},
     "output_type": "execute_result"
    }
   ],
   "source": [
    "# Print the dimensions of the dataframe\n",
    "df.shape"
   ]
  },
  {
   "cell_type": "code",
   "execution_count": 5,
   "metadata": {},
   "outputs": [
    {
     "data": {
      "text/html": [
       "<div>\n",
       "<style scoped>\n",
       "    .dataframe tbody tr th:only-of-type {\n",
       "        vertical-align: middle;\n",
       "    }\n",
       "\n",
       "    .dataframe tbody tr th {\n",
       "        vertical-align: top;\n",
       "    }\n",
       "\n",
       "    .dataframe thead th {\n",
       "        text-align: right;\n",
       "    }\n",
       "</style>\n",
       "<table border=\"1\" class=\"dataframe\">\n",
       "  <thead>\n",
       "    <tr style=\"text-align: right;\">\n",
       "      <th></th>\n",
       "      <th>age</th>\n",
       "      <th>call_day</th>\n",
       "      <th>call_duration</th>\n",
       "      <th>call_frequency</th>\n",
       "    </tr>\n",
       "  </thead>\n",
       "  <tbody>\n",
       "    <tr>\n",
       "      <th>count</th>\n",
       "      <td>45211.000000</td>\n",
       "      <td>45211.000000</td>\n",
       "      <td>45211.000000</td>\n",
       "      <td>45211.000000</td>\n",
       "    </tr>\n",
       "    <tr>\n",
       "      <th>mean</th>\n",
       "      <td>40.936210</td>\n",
       "      <td>15.806419</td>\n",
       "      <td>258.163080</td>\n",
       "      <td>2.763841</td>\n",
       "    </tr>\n",
       "    <tr>\n",
       "      <th>std</th>\n",
       "      <td>10.618762</td>\n",
       "      <td>8.322476</td>\n",
       "      <td>257.527812</td>\n",
       "      <td>3.098021</td>\n",
       "    </tr>\n",
       "    <tr>\n",
       "      <th>min</th>\n",
       "      <td>18.000000</td>\n",
       "      <td>1.000000</td>\n",
       "      <td>0.000000</td>\n",
       "      <td>1.000000</td>\n",
       "    </tr>\n",
       "    <tr>\n",
       "      <th>25%</th>\n",
       "      <td>33.000000</td>\n",
       "      <td>8.000000</td>\n",
       "      <td>103.000000</td>\n",
       "      <td>1.000000</td>\n",
       "    </tr>\n",
       "    <tr>\n",
       "      <th>50%</th>\n",
       "      <td>39.000000</td>\n",
       "      <td>16.000000</td>\n",
       "      <td>180.000000</td>\n",
       "      <td>2.000000</td>\n",
       "    </tr>\n",
       "    <tr>\n",
       "      <th>75%</th>\n",
       "      <td>48.000000</td>\n",
       "      <td>21.000000</td>\n",
       "      <td>319.000000</td>\n",
       "      <td>3.000000</td>\n",
       "    </tr>\n",
       "    <tr>\n",
       "      <th>max</th>\n",
       "      <td>95.000000</td>\n",
       "      <td>31.000000</td>\n",
       "      <td>4918.000000</td>\n",
       "      <td>63.000000</td>\n",
       "    </tr>\n",
       "  </tbody>\n",
       "</table>\n",
       "</div>"
      ],
      "text/plain": [
       "                age      call_day  call_duration  call_frequency\n",
       "count  45211.000000  45211.000000   45211.000000    45211.000000\n",
       "mean      40.936210     15.806419     258.163080        2.763841\n",
       "std       10.618762      8.322476     257.527812        3.098021\n",
       "min       18.000000      1.000000       0.000000        1.000000\n",
       "25%       33.000000      8.000000     103.000000        1.000000\n",
       "50%       39.000000     16.000000     180.000000        2.000000\n",
       "75%       48.000000     21.000000     319.000000        3.000000\n",
       "max       95.000000     31.000000    4918.000000       63.000000"
      ]
     },
     "execution_count": 5,
     "metadata": {},
     "output_type": "execute_result"
    }
   ],
   "source": [
    "# Brief summary of the numeric columns in the dataframe\n",
    "df.describe()"
   ]
  },
  {
   "cell_type": "code",
   "execution_count": 6,
   "metadata": {},
   "outputs": [
    {
     "data": {
      "text/plain": [
       "occupation                   0\n",
       "age                          0\n",
       "education_level              0\n",
       "marital_status               0\n",
       "communication_channel        0\n",
       "call_month                   0\n",
       "call_day                     0\n",
       "call_duration                0\n",
       "call_frequency               0\n",
       "previous_campaign_outcome    0\n",
       "conversion_status            0\n",
       "dtype: int64"
      ]
     },
     "execution_count": 6,
     "metadata": {},
     "output_type": "execute_result"
    }
   ],
   "source": [
    "# Check for any missing values\n",
    "df.isnull().sum()"
   ]
  },
  {
   "cell_type": "markdown",
   "metadata": {},
   "source": [
    "# 1. 'Which occupations have the highest and lowest conversion rate?' "
   ]
  },
  {
   "cell_type": "markdown",
   "metadata": {},
   "source": [
    "To answer this, we'll have to group the dataframe by the occupation column, then find the average count of the converted customers and those that were not converted."
   ]
  },
  {
   "cell_type": "code",
   "execution_count": 7,
   "metadata": {},
   "outputs": [
    {
     "data": {
      "text/html": [
       "<div>\n",
       "<style scoped>\n",
       "    .dataframe tbody tr th:only-of-type {\n",
       "        vertical-align: middle;\n",
       "    }\n",
       "\n",
       "    .dataframe tbody tr th {\n",
       "        vertical-align: top;\n",
       "    }\n",
       "\n",
       "    .dataframe thead th {\n",
       "        text-align: right;\n",
       "    }\n",
       "</style>\n",
       "<table border=\"1\" class=\"dataframe\">\n",
       "  <thead>\n",
       "    <tr style=\"text-align: right;\">\n",
       "      <th></th>\n",
       "      <th>occupation</th>\n",
       "      <th>age</th>\n",
       "      <th>education_level</th>\n",
       "      <th>marital_status</th>\n",
       "      <th>communication_channel</th>\n",
       "      <th>call_month</th>\n",
       "      <th>call_day</th>\n",
       "      <th>call_duration</th>\n",
       "      <th>call_frequency</th>\n",
       "      <th>previous_campaign_outcome</th>\n",
       "      <th>conversion_status</th>\n",
       "    </tr>\n",
       "  </thead>\n",
       "  <tbody>\n",
       "    <tr>\n",
       "      <th>0</th>\n",
       "      <td>administrative_staff</td>\n",
       "      <td>28</td>\n",
       "      <td>high_school</td>\n",
       "      <td>married</td>\n",
       "      <td>unidentified</td>\n",
       "      <td>September</td>\n",
       "      <td>9</td>\n",
       "      <td>1</td>\n",
       "      <td>1</td>\n",
       "      <td>successful</td>\n",
       "      <td>not_converted</td>\n",
       "    </tr>\n",
       "    <tr>\n",
       "      <th>1</th>\n",
       "      <td>administrative_staff</td>\n",
       "      <td>58</td>\n",
       "      <td>unidentified</td>\n",
       "      <td>married</td>\n",
       "      <td>unidentified</td>\n",
       "      <td>June</td>\n",
       "      <td>5</td>\n",
       "      <td>307</td>\n",
       "      <td>2</td>\n",
       "      <td>unidentified</td>\n",
       "      <td>not_converted</td>\n",
       "    </tr>\n",
       "    <tr>\n",
       "      <th>2</th>\n",
       "      <td>jobless</td>\n",
       "      <td>40</td>\n",
       "      <td>high_school</td>\n",
       "      <td>divorced</td>\n",
       "      <td>mobile</td>\n",
       "      <td>February</td>\n",
       "      <td>4</td>\n",
       "      <td>113</td>\n",
       "      <td>1</td>\n",
       "      <td>unidentified</td>\n",
       "      <td>not_converted</td>\n",
       "    </tr>\n",
       "    <tr>\n",
       "      <th>3</th>\n",
       "      <td>retired_worker</td>\n",
       "      <td>63</td>\n",
       "      <td>high_school</td>\n",
       "      <td>married</td>\n",
       "      <td>mobile</td>\n",
       "      <td>April</td>\n",
       "      <td>7</td>\n",
       "      <td>72</td>\n",
       "      <td>5</td>\n",
       "      <td>unidentified</td>\n",
       "      <td>not_converted</td>\n",
       "    </tr>\n",
       "    <tr>\n",
       "      <th>4</th>\n",
       "      <td>business_owner</td>\n",
       "      <td>43</td>\n",
       "      <td>college</td>\n",
       "      <td>married</td>\n",
       "      <td>landline</td>\n",
       "      <td>July</td>\n",
       "      <td>29</td>\n",
       "      <td>184</td>\n",
       "      <td>4</td>\n",
       "      <td>unidentified</td>\n",
       "      <td>not_converted</td>\n",
       "    </tr>\n",
       "    <tr>\n",
       "      <th>5</th>\n",
       "      <td>manual_worker</td>\n",
       "      <td>39</td>\n",
       "      <td>elementary_school</td>\n",
       "      <td>married</td>\n",
       "      <td>unidentified</td>\n",
       "      <td>June</td>\n",
       "      <td>6</td>\n",
       "      <td>158</td>\n",
       "      <td>2</td>\n",
       "      <td>unidentified</td>\n",
       "      <td>not_converted</td>\n",
       "    </tr>\n",
       "    <tr>\n",
       "      <th>6</th>\n",
       "      <td>business_owner</td>\n",
       "      <td>42</td>\n",
       "      <td>college</td>\n",
       "      <td>divorced</td>\n",
       "      <td>mobile</td>\n",
       "      <td>July</td>\n",
       "      <td>10</td>\n",
       "      <td>563</td>\n",
       "      <td>1</td>\n",
       "      <td>unidentified</td>\n",
       "      <td>not_converted</td>\n",
       "    </tr>\n",
       "    <tr>\n",
       "      <th>7</th>\n",
       "      <td>retired_worker</td>\n",
       "      <td>68</td>\n",
       "      <td>college</td>\n",
       "      <td>married</td>\n",
       "      <td>mobile</td>\n",
       "      <td>August</td>\n",
       "      <td>4</td>\n",
       "      <td>651</td>\n",
       "      <td>1</td>\n",
       "      <td>successful</td>\n",
       "      <td>converted</td>\n",
       "    </tr>\n",
       "  </tbody>\n",
       "</table>\n",
       "</div>"
      ],
      "text/plain": [
       "             occupation  age    education_level marital_status  \\\n",
       "0  administrative_staff   28        high_school        married   \n",
       "1  administrative_staff   58       unidentified        married   \n",
       "2               jobless   40        high_school       divorced   \n",
       "3        retired_worker   63        high_school        married   \n",
       "4        business_owner   43            college        married   \n",
       "5         manual_worker   39  elementary_school        married   \n",
       "6        business_owner   42            college       divorced   \n",
       "7        retired_worker   68            college        married   \n",
       "\n",
       "  communication_channel call_month  call_day  call_duration  call_frequency  \\\n",
       "0          unidentified  September         9              1               1   \n",
       "1          unidentified       June         5            307               2   \n",
       "2                mobile   February         4            113               1   \n",
       "3                mobile      April         7             72               5   \n",
       "4              landline       July        29            184               4   \n",
       "5          unidentified       June         6            158               2   \n",
       "6                mobile       July        10            563               1   \n",
       "7                mobile     August         4            651               1   \n",
       "\n",
       "  previous_campaign_outcome conversion_status  \n",
       "0                successful     not_converted  \n",
       "1              unidentified     not_converted  \n",
       "2              unidentified     not_converted  \n",
       "3              unidentified     not_converted  \n",
       "4              unidentified     not_converted  \n",
       "5              unidentified     not_converted  \n",
       "6              unidentified     not_converted  \n",
       "7                successful         converted  "
      ]
     },
     "execution_count": 7,
     "metadata": {},
     "output_type": "execute_result"
    }
   ],
   "source": [
    "df.head(8)"
   ]
  },
  {
   "cell_type": "code",
   "execution_count": 8,
   "metadata": {},
   "outputs": [
    {
     "data": {
      "text/html": [
       "<div>\n",
       "<style scoped>\n",
       "    .dataframe tbody tr th:only-of-type {\n",
       "        vertical-align: middle;\n",
       "    }\n",
       "\n",
       "    .dataframe tbody tr th {\n",
       "        vertical-align: top;\n",
       "    }\n",
       "\n",
       "    .dataframe thead th {\n",
       "        text-align: right;\n",
       "    }\n",
       "</style>\n",
       "<table border=\"1\" class=\"dataframe\">\n",
       "  <thead>\n",
       "    <tr style=\"text-align: right;\">\n",
       "      <th></th>\n",
       "      <th>occupation</th>\n",
       "      <th>age</th>\n",
       "      <th>education_level</th>\n",
       "      <th>marital_status</th>\n",
       "      <th>communication_channel</th>\n",
       "      <th>call_month</th>\n",
       "      <th>call_day</th>\n",
       "      <th>call_duration</th>\n",
       "      <th>call_frequency</th>\n",
       "      <th>previous_campaign_outcome</th>\n",
       "      <th>conversion_status</th>\n",
       "    </tr>\n",
       "  </thead>\n",
       "  <tbody>\n",
       "    <tr>\n",
       "      <th>7</th>\n",
       "      <td>retired_worker</td>\n",
       "      <td>68</td>\n",
       "      <td>college</td>\n",
       "      <td>married</td>\n",
       "      <td>mobile</td>\n",
       "      <td>August</td>\n",
       "      <td>4</td>\n",
       "      <td>651</td>\n",
       "      <td>1</td>\n",
       "      <td>successful</td>\n",
       "      <td>converted</td>\n",
       "    </tr>\n",
       "    <tr>\n",
       "      <th>8</th>\n",
       "      <td>student</td>\n",
       "      <td>22</td>\n",
       "      <td>college</td>\n",
       "      <td>single</td>\n",
       "      <td>mobile</td>\n",
       "      <td>November</td>\n",
       "      <td>30</td>\n",
       "      <td>260</td>\n",
       "      <td>5</td>\n",
       "      <td>successful</td>\n",
       "      <td>converted</td>\n",
       "    </tr>\n",
       "    <tr>\n",
       "      <th>12</th>\n",
       "      <td>executive</td>\n",
       "      <td>48</td>\n",
       "      <td>college</td>\n",
       "      <td>single</td>\n",
       "      <td>mobile</td>\n",
       "      <td>August</td>\n",
       "      <td>25</td>\n",
       "      <td>961</td>\n",
       "      <td>4</td>\n",
       "      <td>unidentified</td>\n",
       "      <td>converted</td>\n",
       "    </tr>\n",
       "    <tr>\n",
       "      <th>63</th>\n",
       "      <td>technical_specialist</td>\n",
       "      <td>32</td>\n",
       "      <td>college</td>\n",
       "      <td>single</td>\n",
       "      <td>mobile</td>\n",
       "      <td>June</td>\n",
       "      <td>17</td>\n",
       "      <td>544</td>\n",
       "      <td>1</td>\n",
       "      <td>unidentified</td>\n",
       "      <td>converted</td>\n",
       "    </tr>\n",
       "    <tr>\n",
       "      <th>74</th>\n",
       "      <td>executive</td>\n",
       "      <td>32</td>\n",
       "      <td>college</td>\n",
       "      <td>single</td>\n",
       "      <td>mobile</td>\n",
       "      <td>September</td>\n",
       "      <td>8</td>\n",
       "      <td>519</td>\n",
       "      <td>1</td>\n",
       "      <td>unsuccessful</td>\n",
       "      <td>converted</td>\n",
       "    </tr>\n",
       "    <tr>\n",
       "      <th>...</th>\n",
       "      <td>...</td>\n",
       "      <td>...</td>\n",
       "      <td>...</td>\n",
       "      <td>...</td>\n",
       "      <td>...</td>\n",
       "      <td>...</td>\n",
       "      <td>...</td>\n",
       "      <td>...</td>\n",
       "      <td>...</td>\n",
       "      <td>...</td>\n",
       "      <td>...</td>\n",
       "    </tr>\n",
       "    <tr>\n",
       "      <th>45184</th>\n",
       "      <td>retired_worker</td>\n",
       "      <td>59</td>\n",
       "      <td>elementary_school</td>\n",
       "      <td>married</td>\n",
       "      <td>mobile</td>\n",
       "      <td>June</td>\n",
       "      <td>5</td>\n",
       "      <td>493</td>\n",
       "      <td>2</td>\n",
       "      <td>unidentified</td>\n",
       "      <td>converted</td>\n",
       "    </tr>\n",
       "    <tr>\n",
       "      <th>45193</th>\n",
       "      <td>administrative_staff</td>\n",
       "      <td>52</td>\n",
       "      <td>high_school</td>\n",
       "      <td>single</td>\n",
       "      <td>mobile</td>\n",
       "      <td>November</td>\n",
       "      <td>3</td>\n",
       "      <td>412</td>\n",
       "      <td>1</td>\n",
       "      <td>unidentified</td>\n",
       "      <td>converted</td>\n",
       "    </tr>\n",
       "    <tr>\n",
       "      <th>45197</th>\n",
       "      <td>retired_worker</td>\n",
       "      <td>72</td>\n",
       "      <td>elementary_school</td>\n",
       "      <td>married</td>\n",
       "      <td>landline</td>\n",
       "      <td>March</td>\n",
       "      <td>23</td>\n",
       "      <td>255</td>\n",
       "      <td>1</td>\n",
       "      <td>successful</td>\n",
       "      <td>converted</td>\n",
       "    </tr>\n",
       "    <tr>\n",
       "      <th>45204</th>\n",
       "      <td>technical_specialist</td>\n",
       "      <td>32</td>\n",
       "      <td>high_school</td>\n",
       "      <td>single</td>\n",
       "      <td>mobile</td>\n",
       "      <td>January</td>\n",
       "      <td>29</td>\n",
       "      <td>750</td>\n",
       "      <td>1</td>\n",
       "      <td>unidentified</td>\n",
       "      <td>converted</td>\n",
       "    </tr>\n",
       "    <tr>\n",
       "      <th>45205</th>\n",
       "      <td>jobless</td>\n",
       "      <td>64</td>\n",
       "      <td>high_school</td>\n",
       "      <td>divorced</td>\n",
       "      <td>mobile</td>\n",
       "      <td>March</td>\n",
       "      <td>8</td>\n",
       "      <td>409</td>\n",
       "      <td>1</td>\n",
       "      <td>unidentified</td>\n",
       "      <td>converted</td>\n",
       "    </tr>\n",
       "  </tbody>\n",
       "</table>\n",
       "<p>5289 rows × 11 columns</p>\n",
       "</div>"
      ],
      "text/plain": [
       "                 occupation  age    education_level marital_status  \\\n",
       "7            retired_worker   68            college        married   \n",
       "8                   student   22            college         single   \n",
       "12                executive   48            college         single   \n",
       "63     technical_specialist   32            college         single   \n",
       "74                executive   32            college         single   \n",
       "...                     ...  ...                ...            ...   \n",
       "45184        retired_worker   59  elementary_school        married   \n",
       "45193  administrative_staff   52        high_school         single   \n",
       "45197        retired_worker   72  elementary_school        married   \n",
       "45204  technical_specialist   32        high_school         single   \n",
       "45205               jobless   64        high_school       divorced   \n",
       "\n",
       "      communication_channel call_month  call_day  call_duration  \\\n",
       "7                    mobile     August         4            651   \n",
       "8                    mobile   November        30            260   \n",
       "12                   mobile     August        25            961   \n",
       "63                   mobile       June        17            544   \n",
       "74                   mobile  September         8            519   \n",
       "...                     ...        ...       ...            ...   \n",
       "45184                mobile       June         5            493   \n",
       "45193                mobile   November         3            412   \n",
       "45197              landline      March        23            255   \n",
       "45204                mobile    January        29            750   \n",
       "45205                mobile      March         8            409   \n",
       "\n",
       "       call_frequency previous_campaign_outcome conversion_status  \n",
       "7                   1                successful         converted  \n",
       "8                   5                successful         converted  \n",
       "12                  4              unidentified         converted  \n",
       "63                  1              unidentified         converted  \n",
       "74                  1              unsuccessful         converted  \n",
       "...               ...                       ...               ...  \n",
       "45184               2              unidentified         converted  \n",
       "45193               1              unidentified         converted  \n",
       "45197               1                successful         converted  \n",
       "45204               1              unidentified         converted  \n",
       "45205               1              unidentified         converted  \n",
       "\n",
       "[5289 rows x 11 columns]"
      ]
     },
     "execution_count": 8,
     "metadata": {},
     "output_type": "execute_result"
    }
   ],
   "source": [
    "df[df['conversion_status'] == 'converted']"
   ]
  },
  {
   "cell_type": "code",
   "execution_count": 9,
   "metadata": {},
   "outputs": [
    {
     "data": {
      "text/plain": [
       "occupation\n",
       "student                 0.286780\n",
       "retired_worker          0.227915\n",
       "jobless                 0.155027\n",
       "executive               0.137556\n",
       "administrative_staff    0.122027\n",
       "independent_worker      0.118429\n",
       "unidentified            0.118056\n",
       "technical_specialist    0.110570\n",
       "service_worker          0.088830\n",
       "domestic_worker         0.087903\n",
       "business_owner          0.082717\n",
       "manual_worker           0.072750\n",
       "Name: conversion_status, dtype: float64"
      ]
     },
     "execution_count": 9,
     "metadata": {},
     "output_type": "execute_result"
    }
   ],
   "source": [
    "# Combine the columns based on the occupation and find the mean of the converted\n",
    "conversion_by_occupation = df.groupby('occupation')['conversion_status'].apply(lambda x: (x == 'converted').mean()).sort_values(ascending=False)\n",
    "conversion_by_occupation"
   ]
  },
  {
   "cell_type": "code",
   "execution_count": 10,
   "metadata": {},
   "outputs": [
    {
     "data": {
      "image/png": "[encoded data removed]",
      "text/plain": [
       "<Figure size 720x432 with 1 Axes>"
      ]
     },
     "metadata": {
      "needs_background": "light"
     },
     "output_type": "display_data"
    }
   ],
   "source": [
    "# Import the relevant library\n",
    "import matplotlib.pyplot as plt\n",
    "\n",
    "# Plot the bar graph\n",
    "plt.figure(figsize=(10, 6))\n",
    "conversion_by_occupation.plot(kind='bar', color='red')\n",
    "plt.title('Conversion Rate by Occupation')\n",
    "plt.xlabel('Occupation')\n",
    "plt.ylabel('Conversion Rate')\n",
    "plt.xticks(rotation=90, ha='right')\n",
    "plt.show()"
   ]
  },
  {
   "cell_type": "markdown",
   "metadata": {},
   "source": [
    "From the plot above, it is clear that the occupations with the most people converted is 'Student', 'Retired Worker' and 'Jobless'.\n",
    "\n",
    "On the other hand, the occupations with the least people enrolling for the insurance offered are 'Manual Worker', 'Business Owner' and 'Domestic Worker'.\n"
   ]
  },
  {
   "cell_type": "markdown",
   "metadata": {},
   "source": [
    "## 2. 'How does age impact conversion rate?'"
   ]
  },
  {
   "cell_type": "markdown",
   "metadata": {},
   "source": [
    "For this question, we'll have to categorize the different ages into age brackets since they're too widespread to work on each individually.\n",
    "\n",
    "We'll then find the conversion rate for each age bracket to find out the age bracket with the highest and lowest likelihood of being converted."
   ]
  },
  {
   "cell_type": "code",
   "execution_count": 11,
   "metadata": {},
   "outputs": [
    {
     "data": {
      "text/plain": [
       "age\n",
       "93    1.000000\n",
       "92    1.000000\n",
       "90    1.000000\n",
       "85    0.800000\n",
       "87    0.750000\n",
       "        ...   \n",
       "44    0.081866\n",
       "50    0.076677\n",
       "94    0.000000\n",
       "89    0.000000\n",
       "88    0.000000\n",
       "Name: conversion_status, Length: 77, dtype: float64"
      ]
     },
     "execution_count": 11,
     "metadata": {},
     "output_type": "execute_result"
    }
   ],
   "source": [
    "# Combine the columns based on the age and find the mean of the converted\n",
    "conversion_by_age = df.groupby('age')['conversion_status'].apply(lambda x : (x=='converted').mean()).sort_values(ascending=False)\n",
    "conversion_by_age"
   ]
  },
  {
   "cell_type": "markdown",
   "metadata": {},
   "source": [
    "Since age is continous, we'll have to categorize it into different groups with an age interval of 10."
   ]
  },
  {
   "cell_type": "code",
   "execution_count": 12,
   "metadata": {},
   "outputs": [
    {
     "name": "stdout",
     "output_type": "stream",
     "text": [
      "18\n",
      "95\n"
     ]
    }
   ],
   "source": [
    "# Find the minimum age\n",
    "min_age = df['age'].min()\n",
    "print(min_age)\n",
    "\n",
    "max_age = df['age'].max()\n",
    "print(max_age)\n"
   ]
  },
  {
   "cell_type": "code",
   "execution_count": 13,
   "metadata": {},
   "outputs": [
    {
     "data": {
      "image/png": "[encoded data removed]",
      "text/plain": [
       "<Figure size 864x432 with 1 Axes>"
      ]
     },
     "metadata": {
      "needs_background": "light"
     },
     "output_type": "display_data"
    }
   ],
   "source": [
    "import pandas as pd\n",
    "import matplotlib.pyplot as plt\n",
    "\n",
    "# Define age bins and labels, starting from 18\n",
    "bins = list(range(18, 99, 10))  # Adjusted bins to start from 10 (since the minimum age is 18)\n",
    "labels = [f'{i}-{i+10}' for i in bins[:-1]]  # Create labels for the bins\n",
    "\n",
    "# Create a copy of the dataframe\n",
    "df_copy = df.copy()\n",
    "# Categorize ages into bins\n",
    "df_copy['age_group'] = pd.cut(df_copy['age'], bins=bins, labels=labels, right=False)\n",
    "\n",
    "# Calculate conversion rate by age group\n",
    "conversion_by_age_group = df_copy.groupby('age_group')['conversion_status'].apply(lambda x: (x == 'converted').mean()).sort_values(ascending=False)\n",
    "\n",
    "# Plot the bar graph\n",
    "plt.figure(figsize=(12, 6))\n",
    "conversion_by_age_group.plot(kind='bar', color='blue')\n",
    "plt.title('Conversion Rate by Age Group')\n",
    "plt.xlabel('Age Group')\n",
    "plt.ylabel('Conversion Rate')\n",
    "plt.xticks(rotation=90, ha='right')\n",
    "plt.show()\n"
   ]
  },
  {
   "cell_type": "markdown",
   "metadata": {},
   "source": [
    "From the plot above, it is evident that the older age groups have a higher conversion rate. From about 68 years, the number of people subscribing to the insurance is high compared to the other age groups.\n",
    "\n",
    "The age groups with the lowest conversion rate include: 28-58."
   ]
  },
  {
   "cell_type": "markdown",
   "metadata": {},
   "source": [
    "## 3. 'What is the impact of the outcome of previous campaigns on current conversion rates?'"
   ]
  },
  {
   "cell_type": "markdown",
   "metadata": {},
   "source": [
    "We are going to check for the result of the previous campaign which could be 'successful', 'unsuccessful', 'unidentified' or 'other outcome'.\n",
    "\n",
    "\n",
    "Then after fetching the current conversion status, we'll determine whether there is a relationship between the outcome of the previous campaign and the current conversion rates."
   ]
  },
  {
   "cell_type": "code",
   "execution_count": 14,
   "metadata": {},
   "outputs": [
    {
     "data": {
      "image/png": "[encoded data removed]",
      "text/plain": [
       "<Figure size 720x432 with 1 Axes>"
      ]
     },
     "metadata": {
      "needs_background": "light"
     },
     "output_type": "display_data"
    }
   ],
   "source": [
    "# Calculate conversion rate based on previous campaign outcome\n",
    "conversion_by_previous_outcome = df.groupby('previous_campaign_outcome')['conversion_status'].apply(lambda x: (x == 'converted').mean())\n",
    "\n",
    "# Plot the bar graph\n",
    "plt.figure(figsize=(10, 6))\n",
    "conversion_by_previous_outcome.plot(kind='bar', color='orange')\n",
    "plt.title('Conversion Rate by Previous Campaign Outcome')\n",
    "plt.xlabel('Previous Campaign Outcome')\n",
    "plt.ylabel('Conversion Rate')\n",
    "plt.xticks(rotation=45, ha='right')\n",
    "plt.show()"
   ]
  },
  {
   "cell_type": "markdown",
   "metadata": {},
   "source": [
    "From the bar graph, there is a higher conversion rate for people who had converted from the previous campaign."
   ]
  },
  {
   "cell_type": "markdown",
   "metadata": {},
   "source": [
    "## 4. 'Does the frequency of calls to a customer correlate with their likelihood to convert?'"
   ]
  },
  {
   "cell_type": "markdown",
   "metadata": {},
   "source": [
    "To answer this, we check if there's a relationship between call frequency and sign-ups and then calculate the correlation to show the strength of the relationship."
   ]
  },
  {
   "cell_type": "code",
   "execution_count": 15,
   "metadata": {},
   "outputs": [
    {
     "name": "stdout",
     "output_type": "stream",
     "text": [
      "Correlation between call frequency and conversion likelihood: -0.07\n"
     ]
    }
   ],
   "source": [
    "# Create a copy of the dataframe\n",
    "df_copy = df.copy()\n",
    "\n",
    "# Ensure 'conversion_status' is encoded as binary (e.g., 0 for 'not_converted', 1 for 'converted')\n",
    "df_copy['conversion_status_binary'] = df_copy['conversion_status'].apply(lambda x: 1 if x == 'converted' else 0)\n",
    "\n",
    "# Calculate the correlation between call_frequency and conversion_status\n",
    "correlation = df_copy[['call_frequency', 'conversion_status_binary']].corr().iloc[0, 1]\n",
    "\n",
    "# Print the correlation\n",
    "print(f\"Correlation between call frequency and conversion likelihood: {correlation:.2f}\")"
   ]
  },
  {
   "cell_type": "code",
   "execution_count": 16,
   "metadata": {},
   "outputs": [
    {
     "data": {
      "image/png": "[encoded data removed]",
      "text/plain": [
       "<Figure size 720x432 with 1 Axes>"
      ]
     },
     "metadata": {
      "needs_background": "light"
     },
     "output_type": "display_data"
    }
   ],
   "source": [
    "import seaborn as sns\n",
    "\n",
    "# Plot the relationship\n",
    "plt.figure(figsize=(10, 6))\n",
    "sns.scatterplot(x='call_frequency', y='conversion_status_binary', data=df_copy, alpha=0.6)\n",
    "plt.title('Relationship Between Call Frequency and Conversion Likelihood')\n",
    "plt.xlabel('Call Frequency')\n",
    "plt.ylabel('Conversion Likelihood')\n",
    "plt.show()"
   ]
  },
  {
   "cell_type": "markdown",
   "metadata": {},
   "source": [
    "The correlation coefficient of -0.07 indicates a very weak negative correlation between frequency and the likelihood of conversion"
   ]
  },
  {
   "cell_type": "markdown",
   "metadata": {},
   "source": [
    "# 3. Data Preparation"
   ]
  },
  {
   "cell_type": "markdown",
   "metadata": {},
   "source": [
    "Now that we have answered our questions, we are going to predict the customers who are likely to enroll in the bank's insurance plans.\n",
    "\n",
    "By analyzing customer data, the model will help identify key factors that influence a customer's decision to convert.\n",
    "\n",
    "This will in turn allow the bank to focus its marketing efforts more effectively, targeting customers who are more likely to respond positively to the campaign, thereby increasing conversion rates and optimizing resources."
   ]
  },
  {
   "cell_type": "code",
   "execution_count": 17,
   "metadata": {},
   "outputs": [
    {
     "data": {
      "text/html": [
       "<div>\n",
       "<style scoped>\n",
       "    .dataframe tbody tr th:only-of-type {\n",
       "        vertical-align: middle;\n",
       "    }\n",
       "\n",
       "    .dataframe tbody tr th {\n",
       "        vertical-align: top;\n",
       "    }\n",
       "\n",
       "    .dataframe thead th {\n",
       "        text-align: right;\n",
       "    }\n",
       "</style>\n",
       "<table border=\"1\" class=\"dataframe\">\n",
       "  <thead>\n",
       "    <tr style=\"text-align: right;\">\n",
       "      <th></th>\n",
       "      <th>occupation</th>\n",
       "      <th>age</th>\n",
       "      <th>education_level</th>\n",
       "      <th>marital_status</th>\n",
       "      <th>communication_channel</th>\n",
       "      <th>call_month</th>\n",
       "      <th>call_day</th>\n",
       "      <th>call_duration</th>\n",
       "      <th>call_frequency</th>\n",
       "      <th>previous_campaign_outcome</th>\n",
       "      <th>conversion_status</th>\n",
       "    </tr>\n",
       "  </thead>\n",
       "  <tbody>\n",
       "    <tr>\n",
       "      <th>0</th>\n",
       "      <td>administrative_staff</td>\n",
       "      <td>28</td>\n",
       "      <td>high_school</td>\n",
       "      <td>married</td>\n",
       "      <td>unidentified</td>\n",
       "      <td>September</td>\n",
       "      <td>9</td>\n",
       "      <td>1</td>\n",
       "      <td>1</td>\n",
       "      <td>successful</td>\n",
       "      <td>not_converted</td>\n",
       "    </tr>\n",
       "    <tr>\n",
       "      <th>1</th>\n",
       "      <td>administrative_staff</td>\n",
       "      <td>58</td>\n",
       "      <td>unidentified</td>\n",
       "      <td>married</td>\n",
       "      <td>unidentified</td>\n",
       "      <td>June</td>\n",
       "      <td>5</td>\n",
       "      <td>307</td>\n",
       "      <td>2</td>\n",
       "      <td>unidentified</td>\n",
       "      <td>not_converted</td>\n",
       "    </tr>\n",
       "    <tr>\n",
       "      <th>2</th>\n",
       "      <td>jobless</td>\n",
       "      <td>40</td>\n",
       "      <td>high_school</td>\n",
       "      <td>divorced</td>\n",
       "      <td>mobile</td>\n",
       "      <td>February</td>\n",
       "      <td>4</td>\n",
       "      <td>113</td>\n",
       "      <td>1</td>\n",
       "      <td>unidentified</td>\n",
       "      <td>not_converted</td>\n",
       "    </tr>\n",
       "    <tr>\n",
       "      <th>3</th>\n",
       "      <td>retired_worker</td>\n",
       "      <td>63</td>\n",
       "      <td>high_school</td>\n",
       "      <td>married</td>\n",
       "      <td>mobile</td>\n",
       "      <td>April</td>\n",
       "      <td>7</td>\n",
       "      <td>72</td>\n",
       "      <td>5</td>\n",
       "      <td>unidentified</td>\n",
       "      <td>not_converted</td>\n",
       "    </tr>\n",
       "    <tr>\n",
       "      <th>4</th>\n",
       "      <td>business_owner</td>\n",
       "      <td>43</td>\n",
       "      <td>college</td>\n",
       "      <td>married</td>\n",
       "      <td>landline</td>\n",
       "      <td>July</td>\n",
       "      <td>29</td>\n",
       "      <td>184</td>\n",
       "      <td>4</td>\n",
       "      <td>unidentified</td>\n",
       "      <td>not_converted</td>\n",
       "    </tr>\n",
       "  </tbody>\n",
       "</table>\n",
       "</div>"
      ],
      "text/plain": [
       "             occupation  age education_level marital_status  \\\n",
       "0  administrative_staff   28     high_school        married   \n",
       "1  administrative_staff   58    unidentified        married   \n",
       "2               jobless   40     high_school       divorced   \n",
       "3        retired_worker   63     high_school        married   \n",
       "4        business_owner   43         college        married   \n",
       "\n",
       "  communication_channel call_month  call_day  call_duration  call_frequency  \\\n",
       "0          unidentified  September         9              1               1   \n",
       "1          unidentified       June         5            307               2   \n",
       "2                mobile   February         4            113               1   \n",
       "3                mobile      April         7             72               5   \n",
       "4              landline       July        29            184               4   \n",
       "\n",
       "  previous_campaign_outcome conversion_status  \n",
       "0                successful     not_converted  \n",
       "1              unidentified     not_converted  \n",
       "2              unidentified     not_converted  \n",
       "3              unidentified     not_converted  \n",
       "4              unidentified     not_converted  "
      ]
     },
     "execution_count": 17,
     "metadata": {},
     "output_type": "execute_result"
    }
   ],
   "source": [
    "# Preview of the original dataframe\n",
    "df.head()"
   ]
  },
  {
   "cell_type": "code",
   "execution_count": 18,
   "metadata": {},
   "outputs": [
    {
     "name": "stdout",
     "output_type": "stream",
     "text": [
      "Raw Counts\n",
      "not_converted    39922\n",
      "converted         5289\n",
      "Name: conversion_status, dtype: int64\n",
      "\n",
      "Percentages\n",
      "not_converted    0.883015\n",
      "converted        0.116985\n",
      "Name: conversion_status, dtype: float64\n"
     ]
    }
   ],
   "source": [
    "# Check the total values for each class in the target column\n",
    "print(\"Raw Counts\")\n",
    "print(df['conversion_status'].value_counts())\n",
    "print()\n",
    "print(\"Percentages\")\n",
    "print(df[\"conversion_status\"].value_counts(normalize=True))"
   ]
  },
  {
   "cell_type": "markdown",
   "metadata": {},
   "source": [
    "Our dataset is heavily imbalanced because if we built a model that always predicted the conversion status as not converted, the model would be about 88% accurate.\n",
    "\n",
    "We'll therefore use SMOTE to generate synthetic samples for the minority class and then train a model on the balanced dataset."
   ]
  },
  {
   "cell_type": "markdown",
   "metadata": {},
   "source": [
    "# 4. Modeling and Evaluation"
   ]
  },
  {
   "cell_type": "markdown",
   "metadata": {},
   "source": [
    "To build our first baseline model, we'll have to encode the categorical variables first since logistic regression requires numerical inputs."
   ]
  },
  {
   "cell_type": "code",
   "execution_count": 19,
   "metadata": {},
   "outputs": [],
   "source": [
    "# Import the necessary libraries\n",
    "from sklearn.model_selection import train_test_split\n",
    "from sklearn.linear_model import LogisticRegression\n",
    "from sklearn.metrics import classification_report\n",
    "from imblearn.over_sampling import SMOTE\n"
   ]
  },
  {
   "cell_type": "code",
   "execution_count": 20,
   "metadata": {},
   "outputs": [
    {
     "data": {
      "text/html": [
       "<div>\n",
       "<style scoped>\n",
       "    .dataframe tbody tr th:only-of-type {\n",
       "        vertical-align: middle;\n",
       "    }\n",
       "\n",
       "    .dataframe tbody tr th {\n",
       "        vertical-align: top;\n",
       "    }\n",
       "\n",
       "    .dataframe thead th {\n",
       "        text-align: right;\n",
       "    }\n",
       "</style>\n",
       "<table border=\"1\" class=\"dataframe\">\n",
       "  <thead>\n",
       "    <tr style=\"text-align: right;\">\n",
       "      <th></th>\n",
       "      <th>age</th>\n",
       "      <th>call_day</th>\n",
       "      <th>call_duration</th>\n",
       "      <th>call_frequency</th>\n",
       "      <th>occupation_business_owner</th>\n",
       "      <th>occupation_domestic_worker</th>\n",
       "      <th>occupation_executive</th>\n",
       "      <th>occupation_independent_worker</th>\n",
       "      <th>occupation_jobless</th>\n",
       "      <th>occupation_manual_worker</th>\n",
       "      <th>...</th>\n",
       "      <th>call_month_June</th>\n",
       "      <th>call_month_March</th>\n",
       "      <th>call_month_May</th>\n",
       "      <th>call_month_November</th>\n",
       "      <th>call_month_October</th>\n",
       "      <th>call_month_September</th>\n",
       "      <th>previous_campaign_outcome_successful</th>\n",
       "      <th>previous_campaign_outcome_unidentified</th>\n",
       "      <th>previous_campaign_outcome_unsuccessful</th>\n",
       "      <th>conversion_status_not_converted</th>\n",
       "    </tr>\n",
       "  </thead>\n",
       "  <tbody>\n",
       "    <tr>\n",
       "      <th>0</th>\n",
       "      <td>28</td>\n",
       "      <td>9</td>\n",
       "      <td>1</td>\n",
       "      <td>1</td>\n",
       "      <td>0</td>\n",
       "      <td>0</td>\n",
       "      <td>0</td>\n",
       "      <td>0</td>\n",
       "      <td>0</td>\n",
       "      <td>0</td>\n",
       "      <td>...</td>\n",
       "      <td>0</td>\n",
       "      <td>0</td>\n",
       "      <td>0</td>\n",
       "      <td>0</td>\n",
       "      <td>0</td>\n",
       "      <td>1</td>\n",
       "      <td>1</td>\n",
       "      <td>0</td>\n",
       "      <td>0</td>\n",
       "      <td>1</td>\n",
       "    </tr>\n",
       "    <tr>\n",
       "      <th>1</th>\n",
       "      <td>58</td>\n",
       "      <td>5</td>\n",
       "      <td>307</td>\n",
       "      <td>2</td>\n",
       "      <td>0</td>\n",
       "      <td>0</td>\n",
       "      <td>0</td>\n",
       "      <td>0</td>\n",
       "      <td>0</td>\n",
       "      <td>0</td>\n",
       "      <td>...</td>\n",
       "      <td>1</td>\n",
       "      <td>0</td>\n",
       "      <td>0</td>\n",
       "      <td>0</td>\n",
       "      <td>0</td>\n",
       "      <td>0</td>\n",
       "      <td>0</td>\n",
       "      <td>1</td>\n",
       "      <td>0</td>\n",
       "      <td>1</td>\n",
       "    </tr>\n",
       "    <tr>\n",
       "      <th>2</th>\n",
       "      <td>40</td>\n",
       "      <td>4</td>\n",
       "      <td>113</td>\n",
       "      <td>1</td>\n",
       "      <td>0</td>\n",
       "      <td>0</td>\n",
       "      <td>0</td>\n",
       "      <td>0</td>\n",
       "      <td>1</td>\n",
       "      <td>0</td>\n",
       "      <td>...</td>\n",
       "      <td>0</td>\n",
       "      <td>0</td>\n",
       "      <td>0</td>\n",
       "      <td>0</td>\n",
       "      <td>0</td>\n",
       "      <td>0</td>\n",
       "      <td>0</td>\n",
       "      <td>1</td>\n",
       "      <td>0</td>\n",
       "      <td>1</td>\n",
       "    </tr>\n",
       "    <tr>\n",
       "      <th>3</th>\n",
       "      <td>63</td>\n",
       "      <td>7</td>\n",
       "      <td>72</td>\n",
       "      <td>5</td>\n",
       "      <td>0</td>\n",
       "      <td>0</td>\n",
       "      <td>0</td>\n",
       "      <td>0</td>\n",
       "      <td>0</td>\n",
       "      <td>0</td>\n",
       "      <td>...</td>\n",
       "      <td>0</td>\n",
       "      <td>0</td>\n",
       "      <td>0</td>\n",
       "      <td>0</td>\n",
       "      <td>0</td>\n",
       "      <td>0</td>\n",
       "      <td>0</td>\n",
       "      <td>1</td>\n",
       "      <td>0</td>\n",
       "      <td>1</td>\n",
       "    </tr>\n",
       "    <tr>\n",
       "      <th>4</th>\n",
       "      <td>43</td>\n",
       "      <td>29</td>\n",
       "      <td>184</td>\n",
       "      <td>4</td>\n",
       "      <td>1</td>\n",
       "      <td>0</td>\n",
       "      <td>0</td>\n",
       "      <td>0</td>\n",
       "      <td>0</td>\n",
       "      <td>0</td>\n",
       "      <td>...</td>\n",
       "      <td>0</td>\n",
       "      <td>0</td>\n",
       "      <td>0</td>\n",
       "      <td>0</td>\n",
       "      <td>0</td>\n",
       "      <td>0</td>\n",
       "      <td>0</td>\n",
       "      <td>1</td>\n",
       "      <td>0</td>\n",
       "      <td>1</td>\n",
       "    </tr>\n",
       "  </tbody>\n",
       "</table>\n",
       "<p>5 rows × 37 columns</p>\n",
       "</div>"
      ],
      "text/plain": [
       "   age  call_day  call_duration  call_frequency  occupation_business_owner  \\\n",
       "0   28         9              1               1                          0   \n",
       "1   58         5            307               2                          0   \n",
       "2   40         4            113               1                          0   \n",
       "3   63         7             72               5                          0   \n",
       "4   43        29            184               4                          1   \n",
       "\n",
       "   occupation_domestic_worker  occupation_executive  \\\n",
       "0                           0                     0   \n",
       "1                           0                     0   \n",
       "2                           0                     0   \n",
       "3                           0                     0   \n",
       "4                           0                     0   \n",
       "\n",
       "   occupation_independent_worker  occupation_jobless  \\\n",
       "0                              0                   0   \n",
       "1                              0                   0   \n",
       "2                              0                   1   \n",
       "3                              0                   0   \n",
       "4                              0                   0   \n",
       "\n",
       "   occupation_manual_worker  ...  call_month_June  call_month_March  \\\n",
       "0                         0  ...                0                 0   \n",
       "1                         0  ...                1                 0   \n",
       "2                         0  ...                0                 0   \n",
       "3                         0  ...                0                 0   \n",
       "4                         0  ...                0                 0   \n",
       "\n",
       "   call_month_May  call_month_November  call_month_October  \\\n",
       "0               0                    0                   0   \n",
       "1               0                    0                   0   \n",
       "2               0                    0                   0   \n",
       "3               0                    0                   0   \n",
       "4               0                    0                   0   \n",
       "\n",
       "   call_month_September  previous_campaign_outcome_successful  \\\n",
       "0                     1                                     1   \n",
       "1                     0                                     0   \n",
       "2                     0                                     0   \n",
       "3                     0                                     0   \n",
       "4                     0                                     0   \n",
       "\n",
       "   previous_campaign_outcome_unidentified  \\\n",
       "0                                       0   \n",
       "1                                       1   \n",
       "2                                       1   \n",
       "3                                       1   \n",
       "4                                       1   \n",
       "\n",
       "   previous_campaign_outcome_unsuccessful  conversion_status_not_converted  \n",
       "0                                       0                                1  \n",
       "1                                       0                                1  \n",
       "2                                       0                                1  \n",
       "3                                       0                                1  \n",
       "4                                       0                                1  \n",
       "\n",
       "[5 rows x 37 columns]"
      ]
     },
     "execution_count": 20,
     "metadata": {},
     "output_type": "execute_result"
    }
   ],
   "source": [
    "# Encode the categorical features\n",
    "encoded_df = pd.get_dummies(df, drop_first=True)\n",
    "encoded_df.head()"
   ]
  },
  {
   "cell_type": "code",
   "execution_count": 21,
   "metadata": {},
   "outputs": [],
   "source": [
    "# Define the exogenous and endogenous variables\n",
    "X = encoded_df.drop(columns='conversion_status_not_converted')\n",
    "y = encoded_df['conversion_status_not_converted']"
   ]
  },
  {
   "cell_type": "code",
   "execution_count": 28,
   "metadata": {},
   "outputs": [
    {
     "name": "stdout",
     "output_type": "stream",
     "text": [
      "Accuracy: 0.90\n",
      "Precision: 0.91\n",
      "Recall: 0.97\n",
      "AUC-ROC: 0.89\n"
     ]
    },
    {
     "name": "stderr",
     "output_type": "stream",
     "text": [
      "e:\\SCHOOL\\anaconda3.1\\envs\\learn-env\\lib\\site-packages\\sklearn\\linear_model\\_logistic.py:762: ConvergenceWarning: lbfgs failed to converge (status=1):\n",
      "STOP: TOTAL NO. of ITERATIONS REACHED LIMIT.\n",
      "\n",
      "Increase the number of iterations (max_iter) or scale the data as shown in:\n",
      "    https://scikit-learn.org/stable/modules/preprocessing.html\n",
      "Please also refer to the documentation for alternative solver options:\n",
      "    https://scikit-learn.org/stable/modules/linear_model.html#logistic-regression\n",
      "  n_iter_i = _check_optimize_result(\n"
     ]
    }
   ],
   "source": [
    "# Import the necessary library\n",
    "from sklearn.metrics import accuracy_score, precision_score, recall_score ,roc_auc_score, roc_curve\n",
    "\n",
    "# Split the data into training and test sets\n",
    "X_train, X_test, y_train, y_test = train_test_split(X, y, test_size=0.2, random_state=1)\n",
    "\n",
    "# Train a baseline model\n",
    "baseline_model = LogisticRegression()\n",
    "baseline_model.fit(X_train, y_train)\n",
    "\n",
    "# Make predictions on the test set\n",
    "y_pred_baseline = baseline_model.predict(X_test)\n",
    "y_pred_proba = baseline_model.predict_proba(X_test)[:, 1]\n",
    "\n",
    "# Calculate the evaluation metrics\n",
    "accuracy = accuracy_score(y_test, y_pred_baseline)\n",
    "precision = precision_score(y_test, y_pred_baseline)\n",
    "recall = recall_score(y_test, y_pred_baseline)\n",
    "roc_auc = roc_auc_score(y_test, y_pred_proba)\n",
    "\n",
    "# Print the results\n",
    "print(f\"Accuracy: {accuracy:.2f}\")\n",
    "print(f\"Precision: {precision:.2f}\")\n",
    "print(f\"Recall: {recall:.2f}\")\n",
    "print(f\"AUC-ROC: {roc_auc:.2f}\")\n",
    "\n",
    "\n"
   ]
  },
  {
   "cell_type": "markdown",
   "metadata": {},
   "source": [
    "These are the metrics for our baseline model, however, initially our dataframe was heavily imbalanced. Therefore, applying SMOTE to the dataset and using the oversampled data will help train our model better.\n",
    "\n",
    "By balancing the dataset, SMOTE reduces the bias that the baseline model might develop towards the majority class(not converted). This will prevent the model from simply predicting the majority class most of the time."
   ]
  },
  {
   "cell_type": "code",
   "execution_count": 34,
   "metadata": {},
   "outputs": [
    {
     "name": "stdout",
     "output_type": "stream",
     "text": [
      "Accuracy: 0.88\n",
      "Precision: 0.93\n",
      "Recall: 0.94\n",
      "AUC-ROC: 0.86\n"
     ]
    },
    {
     "name": "stderr",
     "output_type": "stream",
     "text": [
      "e:\\SCHOOL\\anaconda3.1\\envs\\learn-env\\lib\\site-packages\\sklearn\\linear_model\\_logistic.py:762: ConvergenceWarning: lbfgs failed to converge (status=1):\n",
      "STOP: TOTAL NO. of ITERATIONS REACHED LIMIT.\n",
      "\n",
      "Increase the number of iterations (max_iter) or scale the data as shown in:\n",
      "    https://scikit-learn.org/stable/modules/preprocessing.html\n",
      "Please also refer to the documentation for alternative solver options:\n",
      "    https://scikit-learn.org/stable/modules/linear_model.html#logistic-regression\n",
      "  n_iter_i = _check_optimize_result(\n"
     ]
    }
   ],
   "source": [
    "# Import the required library\n",
    "from sklearn.metrics import accuracy_score, precision_score, recall_score ,roc_auc_score, roc_curve\n",
    "\n",
    "# Apply SMOTE to balance the training set\n",
    "smote = SMOTE(random_state=1)\n",
    "X_train_smote, y_train_smote = smote.fit_resample(X_train, y_train)\n",
    "\n",
    "# Train model on SMOTE-augmented data\n",
    "smote_model = LogisticRegression(max_iter=1000)\n",
    "smote_model.fit(X_train_smote, y_train_smote)\n",
    "\n",
    "# Make predictions on the test set\n",
    "y_pred_smote = smote_model.predict(X_test)\n",
    "y_pred_proba = smote_model.predict_proba(X_test)[:, 1]\n",
    "\n",
    "# Calculate the evaluation metrics\n",
    "accuracy = accuracy_score(y_test, y_pred_smote)\n",
    "precision = precision_score(y_test, y_pred_smote)\n",
    "recall = recall_score(y_test, y_pred_smote)\n",
    "roc_auc = roc_auc_score(y_test, y_pred_proba)\n",
    "\n",
    "# Print the results\n",
    "print(f\"Accuracy: {accuracy:.2f}\")\n",
    "print(f\"Precision: {precision:.2f}\")\n",
    "print(f\"Recall: {recall:.2f}\")\n",
    "print(f\"AUC-ROC: {roc_auc:.2f}\")\n"
   ]
  },
  {
   "cell_type": "markdown",
   "metadata": {},
   "source": [
    "Although, there was a slight decrease in the recall, the SMOTE  model has a recall of 0.94 which is still quite high. This indicates that the model is still very good at identifying customers who will convert.\n",
    "\n",
    "The SMOTE model also has a higher precision than the baseline model.\n",
    "\n",
    "Even with a slight drop in metrics like accuracy or AUC-ROC, the model is now making more meaningful predictions for the minority class.\n",
    "\n"
   ]
  },
  {
   "cell_type": "markdown",
   "metadata": {},
   "source": [
    "We also used the default parameters for the models and therefore don't know if there are optimum parameters we could use to increase our model's metrics.\n",
    "Using Grid Search we'll test different combinations of hyperparameters to find the best set for the baseline model."
   ]
  },
  {
   "cell_type": "code",
   "execution_count": 24,
   "metadata": {},
   "outputs": [
    {
     "name": "stderr",
     "output_type": "stream",
     "text": [
      "e:\\SCHOOL\\anaconda3.1\\envs\\learn-env\\lib\\site-packages\\sklearn\\linear_model\\_logistic.py:762: ConvergenceWarning: lbfgs failed to converge (status=1):\n",
      "STOP: TOTAL NO. of ITERATIONS REACHED LIMIT.\n",
      "\n",
      "Increase the number of iterations (max_iter) or scale the data as shown in:\n",
      "    https://scikit-learn.org/stable/modules/preprocessing.html\n",
      "Please also refer to the documentation for alternative solver options:\n",
      "    https://scikit-learn.org/stable/modules/linear_model.html#logistic-regression\n",
      "  n_iter_i = _check_optimize_result(\n",
      "e:\\SCHOOL\\anaconda3.1\\envs\\learn-env\\lib\\site-packages\\sklearn\\linear_model\\_logistic.py:762: ConvergenceWarning: lbfgs failed to converge (status=1):\n",
      "STOP: TOTAL NO. of ITERATIONS REACHED LIMIT.\n",
      "\n",
      "Increase the number of iterations (max_iter) or scale the data as shown in:\n",
      "    https://scikit-learn.org/stable/modules/preprocessing.html\n",
      "Please also refer to the documentation for alternative solver options:\n",
      "    https://scikit-learn.org/stable/modules/linear_model.html#logistic-regression\n",
      "  n_iter_i = _check_optimize_result(\n",
      "e:\\SCHOOL\\anaconda3.1\\envs\\learn-env\\lib\\site-packages\\sklearn\\linear_model\\_logistic.py:762: ConvergenceWarning: lbfgs failed to converge (status=1):\n",
      "STOP: TOTAL NO. of ITERATIONS REACHED LIMIT.\n",
      "\n",
      "Increase the number of iterations (max_iter) or scale the data as shown in:\n",
      "    https://scikit-learn.org/stable/modules/preprocessing.html\n",
      "Please also refer to the documentation for alternative solver options:\n",
      "    https://scikit-learn.org/stable/modules/linear_model.html#logistic-regression\n",
      "  n_iter_i = _check_optimize_result(\n",
      "e:\\SCHOOL\\anaconda3.1\\envs\\learn-env\\lib\\site-packages\\sklearn\\linear_model\\_logistic.py:762: ConvergenceWarning: lbfgs failed to converge (status=1):\n",
      "STOP: TOTAL NO. of ITERATIONS REACHED LIMIT.\n",
      "\n",
      "Increase the number of iterations (max_iter) or scale the data as shown in:\n",
      "    https://scikit-learn.org/stable/modules/preprocessing.html\n",
      "Please also refer to the documentation for alternative solver options:\n",
      "    https://scikit-learn.org/stable/modules/linear_model.html#logistic-regression\n",
      "  n_iter_i = _check_optimize_result(\n",
      "e:\\SCHOOL\\anaconda3.1\\envs\\learn-env\\lib\\site-packages\\sklearn\\linear_model\\_logistic.py:762: ConvergenceWarning: lbfgs failed to converge (status=1):\n",
      "STOP: TOTAL NO. of ITERATIONS REACHED LIMIT.\n",
      "\n",
      "Increase the number of iterations (max_iter) or scale the data as shown in:\n",
      "    https://scikit-learn.org/stable/modules/preprocessing.html\n",
      "Please also refer to the documentation for alternative solver options:\n",
      "    https://scikit-learn.org/stable/modules/linear_model.html#logistic-regression\n",
      "  n_iter_i = _check_optimize_result(\n",
      "e:\\SCHOOL\\anaconda3.1\\envs\\learn-env\\lib\\site-packages\\sklearn\\linear_model\\_logistic.py:762: ConvergenceWarning: lbfgs failed to converge (status=1):\n",
      "STOP: TOTAL NO. of ITERATIONS REACHED LIMIT.\n",
      "\n",
      "Increase the number of iterations (max_iter) or scale the data as shown in:\n",
      "    https://scikit-learn.org/stable/modules/preprocessing.html\n",
      "Please also refer to the documentation for alternative solver options:\n",
      "    https://scikit-learn.org/stable/modules/linear_model.html#logistic-regression\n",
      "  n_iter_i = _check_optimize_result(\n",
      "e:\\SCHOOL\\anaconda3.1\\envs\\learn-env\\lib\\site-packages\\sklearn\\linear_model\\_logistic.py:762: ConvergenceWarning: lbfgs failed to converge (status=1):\n",
      "STOP: TOTAL NO. of ITERATIONS REACHED LIMIT.\n",
      "\n",
      "Increase the number of iterations (max_iter) or scale the data as shown in:\n",
      "    https://scikit-learn.org/stable/modules/preprocessing.html\n",
      "Please also refer to the documentation for alternative solver options:\n",
      "    https://scikit-learn.org/stable/modules/linear_model.html#logistic-regression\n",
      "  n_iter_i = _check_optimize_result(\n",
      "e:\\SCHOOL\\anaconda3.1\\envs\\learn-env\\lib\\site-packages\\sklearn\\linear_model\\_logistic.py:762: ConvergenceWarning: lbfgs failed to converge (status=1):\n",
      "STOP: TOTAL NO. of ITERATIONS REACHED LIMIT.\n",
      "\n",
      "Increase the number of iterations (max_iter) or scale the data as shown in:\n",
      "    https://scikit-learn.org/stable/modules/preprocessing.html\n",
      "Please also refer to the documentation for alternative solver options:\n",
      "    https://scikit-learn.org/stable/modules/linear_model.html#logistic-regression\n",
      "  n_iter_i = _check_optimize_result(\n",
      "e:\\SCHOOL\\anaconda3.1\\envs\\learn-env\\lib\\site-packages\\sklearn\\linear_model\\_logistic.py:762: ConvergenceWarning: lbfgs failed to converge (status=1):\n",
      "STOP: TOTAL NO. of ITERATIONS REACHED LIMIT.\n",
      "\n",
      "Increase the number of iterations (max_iter) or scale the data as shown in:\n",
      "    https://scikit-learn.org/stable/modules/preprocessing.html\n",
      "Please also refer to the documentation for alternative solver options:\n",
      "    https://scikit-learn.org/stable/modules/linear_model.html#logistic-regression\n",
      "  n_iter_i = _check_optimize_result(\n",
      "e:\\SCHOOL\\anaconda3.1\\envs\\learn-env\\lib\\site-packages\\sklearn\\linear_model\\_logistic.py:762: ConvergenceWarning: lbfgs failed to converge (status=1):\n",
      "STOP: TOTAL NO. of ITERATIONS REACHED LIMIT.\n",
      "\n",
      "Increase the number of iterations (max_iter) or scale the data as shown in:\n",
      "    https://scikit-learn.org/stable/modules/preprocessing.html\n",
      "Please also refer to the documentation for alternative solver options:\n",
      "    https://scikit-learn.org/stable/modules/linear_model.html#logistic-regression\n",
      "  n_iter_i = _check_optimize_result(\n",
      "e:\\SCHOOL\\anaconda3.1\\envs\\learn-env\\lib\\site-packages\\sklearn\\linear_model\\_logistic.py:762: ConvergenceWarning: lbfgs failed to converge (status=1):\n",
      "STOP: TOTAL NO. of ITERATIONS REACHED LIMIT.\n",
      "\n",
      "Increase the number of iterations (max_iter) or scale the data as shown in:\n",
      "    https://scikit-learn.org/stable/modules/preprocessing.html\n",
      "Please also refer to the documentation for alternative solver options:\n",
      "    https://scikit-learn.org/stable/modules/linear_model.html#logistic-regression\n",
      "  n_iter_i = _check_optimize_result(\n",
      "e:\\SCHOOL\\anaconda3.1\\envs\\learn-env\\lib\\site-packages\\sklearn\\linear_model\\_logistic.py:762: ConvergenceWarning: lbfgs failed to converge (status=1):\n",
      "STOP: TOTAL NO. of ITERATIONS REACHED LIMIT.\n",
      "\n",
      "Increase the number of iterations (max_iter) or scale the data as shown in:\n",
      "    https://scikit-learn.org/stable/modules/preprocessing.html\n",
      "Please also refer to the documentation for alternative solver options:\n",
      "    https://scikit-learn.org/stable/modules/linear_model.html#logistic-regression\n",
      "  n_iter_i = _check_optimize_result(\n",
      "e:\\SCHOOL\\anaconda3.1\\envs\\learn-env\\lib\\site-packages\\sklearn\\linear_model\\_logistic.py:762: ConvergenceWarning: lbfgs failed to converge (status=1):\n",
      "STOP: TOTAL NO. of ITERATIONS REACHED LIMIT.\n",
      "\n",
      "Increase the number of iterations (max_iter) or scale the data as shown in:\n",
      "    https://scikit-learn.org/stable/modules/preprocessing.html\n",
      "Please also refer to the documentation for alternative solver options:\n",
      "    https://scikit-learn.org/stable/modules/linear_model.html#logistic-regression\n",
      "  n_iter_i = _check_optimize_result(\n",
      "e:\\SCHOOL\\anaconda3.1\\envs\\learn-env\\lib\\site-packages\\sklearn\\linear_model\\_logistic.py:762: ConvergenceWarning: lbfgs failed to converge (status=1):\n",
      "STOP: TOTAL NO. of ITERATIONS REACHED LIMIT.\n",
      "\n",
      "Increase the number of iterations (max_iter) or scale the data as shown in:\n",
      "    https://scikit-learn.org/stable/modules/preprocessing.html\n",
      "Please also refer to the documentation for alternative solver options:\n",
      "    https://scikit-learn.org/stable/modules/linear_model.html#logistic-regression\n",
      "  n_iter_i = _check_optimize_result(\n",
      "e:\\SCHOOL\\anaconda3.1\\envs\\learn-env\\lib\\site-packages\\sklearn\\linear_model\\_logistic.py:762: ConvergenceWarning: lbfgs failed to converge (status=1):\n",
      "STOP: TOTAL NO. of ITERATIONS REACHED LIMIT.\n",
      "\n",
      "Increase the number of iterations (max_iter) or scale the data as shown in:\n",
      "    https://scikit-learn.org/stable/modules/preprocessing.html\n",
      "Please also refer to the documentation for alternative solver options:\n",
      "    https://scikit-learn.org/stable/modules/linear_model.html#logistic-regression\n",
      "  n_iter_i = _check_optimize_result(\n",
      "e:\\SCHOOL\\anaconda3.1\\envs\\learn-env\\lib\\site-packages\\sklearn\\linear_model\\_logistic.py:762: ConvergenceWarning: lbfgs failed to converge (status=1):\n",
      "STOP: TOTAL NO. of ITERATIONS REACHED LIMIT.\n",
      "\n",
      "Increase the number of iterations (max_iter) or scale the data as shown in:\n",
      "    https://scikit-learn.org/stable/modules/preprocessing.html\n",
      "Please also refer to the documentation for alternative solver options:\n",
      "    https://scikit-learn.org/stable/modules/linear_model.html#logistic-regression\n",
      "  n_iter_i = _check_optimize_result(\n"
     ]
    },
    {
     "name": "stdout",
     "output_type": "stream",
     "text": [
      "Best parameters found: {'C': 0.01, 'solver': 'liblinear'}\n",
      "Best F1 score: 0.9115025197209736\n"
     ]
    }
   ],
   "source": [
    "from sklearn.model_selection import GridSearchCV\n",
    "param_grid = {\n",
    "    'C': [0.001, 0.01, 0.1, 1, 10, 100],\n",
    "    'solver': ['newton-cg', 'lbfgs', 'liblinear']\n",
    "}\n",
    "grid_search = GridSearchCV(LogisticRegression(max_iter=1000), param_grid, cv=5, scoring='accuracy')\n",
    "grid_search.fit(X_train_smote, y_train_smote)  \n",
    "best_params = grid_search.best_params_\n",
    "\n",
    "# Print the best parameters and the corresponding score\n",
    "print(\"Best parameters found:\", grid_search.best_params_)\n",
    "print(\"Best F1 score:\", grid_search.best_score_)"
   ]
  },
  {
   "cell_type": "markdown",
   "metadata": {},
   "source": [
    "Using these hyperparameters, let's re-evaluate the model"
   ]
  },
  {
   "cell_type": "code",
   "execution_count": 33,
   "metadata": {},
   "outputs": [
    {
     "name": "stdout",
     "output_type": "stream",
     "text": [
      "Accuracy: 0.88\n",
      "Precision: 0.93\n",
      "Recall: 0.93\n",
      "AUC-ROC: 0.88\n"
     ]
    }
   ],
   "source": [
    "# Instantiate the LogisticRegression with the best parameters\n",
    "final_model = LogisticRegression(C=0.01, random_state=2, solver='liblinear', max_iter=1000)\n",
    "\n",
    "# Train the final model on the training data\n",
    "final_model.fit(X_train_smote, y_train_smote)\n",
    "\n",
    "# Evaluate the model\n",
    "y_pred_final = final_model.predict(X_test)\n",
    "y_pred_proba = final_model.predict_proba(X_test)[:, 1]\n",
    "\n",
    "# Calculate the evaluation metrics\n",
    "accuracy = accuracy_score(y_test, y_pred_final)\n",
    "precision = precision_score(y_test, y_pred_final)\n",
    "recall = recall_score(y_test, y_pred_final)\n",
    "roc_auc = roc_auc_score(y_test, y_pred_proba)\n",
    "\n",
    "# Print the results\n",
    "print(f\"Accuracy: {accuracy:.2f}\")\n",
    "print(f\"Precision: {precision:.2f}\")\n",
    "print(f\"Recall: {recall:.2f}\")\n",
    "print(f\"AUC-ROC: {roc_auc:.2f}\")\n"
   ]
  },
  {
   "cell_type": "markdown",
   "metadata": {},
   "source": [
    "Even after tuning the model's hyperparameters, we did not get much of a difference in the evaluation metrics.\n",
    "Since the logistic regression model has a relatively low AUC-ROC and accuracy, we could explore a different model."
   ]
  },
  {
   "cell_type": "markdown",
   "metadata": {},
   "source": [
    "The Random Forest Classifier offers better accuracy than a single decision tree by reducing overfitting because it averages the predictions of multiple trees. It also aggregates predictions from multiple trees, making it more robust to extreme values in the data."
   ]
  },
  {
   "cell_type": "code",
   "execution_count": 39,
   "metadata": {},
   "outputs": [
    {
     "name": "stdout",
     "output_type": "stream",
     "text": [
      "Accuracy: 0.89\n",
      "Precision: 0.93\n",
      "Recall: 0.95\n",
      "AUC-ROC: 0.91\n"
     ]
    }
   ],
   "source": [
    "# Import the relevant class in the library\n",
    "from sklearn.ensemble import RandomForestClassifier\n",
    "\n",
    "# Instantiate the classifier\n",
    "rf = RandomForestClassifier(random_state=1)\n",
    "\n",
    "# Train the classifier\n",
    "rf.fit(X_train_smote, y_train_smote)\n",
    "\n",
    "# Evaluate the model\n",
    "y_pred_final = rf.predict(X_test)\n",
    "y_pred_proba = rf.predict_proba(X_test)[:, 1]\n",
    "\n",
    "# Calculate the evaluation metrics\n",
    "accuracy = accuracy_score(y_test, y_pred_final)\n",
    "precision = precision_score(y_test, y_pred_final)\n",
    "recall = recall_score(y_test, y_pred_final)\n",
    "roc_auc = roc_auc_score(y_test, y_pred_proba)\n",
    "\n",
    "# Print the results\n",
    "print(f\"Accuracy: {accuracy:.2f}\")\n",
    "print(f\"Precision: {precision:.2f}\")\n",
    "print(f\"Recall: {recall:.2f}\")\n",
    "print(f\"AUC-ROC: {roc_auc:.2f}\")\n"
   ]
  },
  {
   "cell_type": "markdown",
   "metadata": {},
   "source": [
    "The random forest model is highly effective at both identifying positive cases and ensuring that most positive predictions are correct.\n",
    "This means that the bank will be able to correctly predict the customers likely to subscribe 95% of the time."
   ]
  },
  {
   "cell_type": "markdown",
   "metadata": {},
   "source": [
    "However, given the high score on all metrics, we could check for overfitting using cross-validation.\n",
    "This will ensure our model perfoms consistently across all splits of the data."
   ]
  },
  {
   "cell_type": "code",
   "execution_count": 41,
   "metadata": {},
   "outputs": [
    {
     "name": "stdout",
     "output_type": "stream",
     "text": [
      "Cross-Validation Accuracy: 0.92 ± 0.09\n",
      "Cross-Validation Precision: 0.93 ± 0.13\n",
      "Cross-Validation Recall: 0.94 ± 0.02\n",
      "Cross-Validation AUC-ROC: 0.99 ± 0.02\n"
     ]
    }
   ],
   "source": [
    "# Import the relevant class in the library\n",
    "from sklearn.model_selection import cross_val_score\n",
    "\n",
    "# Perform 5-fold cross-validation\n",
    "cv_accuracy = cross_val_score(rf, X_train_smote, y_train_smote, cv=5, scoring='accuracy')\n",
    "cv_precision = cross_val_score(rf, X_train_smote, y_train_smote, cv=5, scoring='precision')\n",
    "cv_recall = cross_val_score(rf, X_train_smote, y_train_smote, cv=5, scoring='recall')\n",
    "cv_roc_auc = cross_val_score(rf, X_train_smote, y_train_smote, cv=5, scoring='roc_auc')\n",
    "\n",
    "# Print cross-validation results\n",
    "print(f\"Cross-Validation Accuracy: {cv_accuracy.mean():.2f} ± {cv_accuracy.std():.2f}\")\n",
    "print(f\"Cross-Validation Precision: {cv_precision.mean():.2f} ± {cv_precision.std():.2f}\")\n",
    "print(f\"Cross-Validation Recall: {cv_recall.mean():.2f} ± {cv_recall.std():.2f}\")\n",
    "print(f\"Cross-Validation AUC-ROC: {cv_roc_auc.mean():.2f} ± {cv_roc_auc.std():.2f}\")\n"
   ]
  },
  {
   "cell_type": "markdown",
   "metadata": {},
   "source": [
    "The relatively low standard deviations for recall and AUC-ROC suggest that the model’s performance is stable across different subsets of the data.\n",
    "\n",
    "The cross-validation results suggest that the model generalizes well across different data subsets and does not overfit.\n",
    "\n",
    "The model almost perfectly distinguishes between customers who will convert and those who won't."
   ]
  },
  {
   "cell_type": "markdown",
   "metadata": {},
   "source": [
    "## RECOMMENDATIONS"
   ]
  },
  {
   "cell_type": "markdown",
   "metadata": {},
   "source": [
    "### 1. Target specific occupations especially those with higher conversion rates such as students, retired workers and the jobless individuals.Tailor communications and appealing offers to these groups. For the occupations with lower conversion rates like manual workers, business owners and domestic workers, re-evaluate the approaches used on this groups."
   ]
  },
  {
   "cell_type": "markdown",
   "metadata": {},
   "source": [
    "### 2. Prioritize older age groups particularly those above 68 years as they show a higher likelihood of conversion. Direct more targeted marketing and personalized offers to these senior age groups. For the younger ages groups with lower conversion rates, explore different strategies that could align better with them and convince them to opt in the insurance service."
   ]
  },
  {
   "cell_type": "markdown",
   "metadata": {},
   "source": [
    "### 3. Leverage previous campaign success since customers who converted in previous campaigns are more likely to convert again. Maintain good relationships with these customers through follow-up campaigns, loyalty programs and special offers. This will undoubtedly boost customer retention and enable the bank to maximize the return on investment for the campaign."
   ]
  }
 ],
 "metadata": {
  "kernelspec": {
   "display_name": "Python 3",
   "language": "python",
   "name": "python3"
  },
  "language_info": {
   "codemirror_mode": {
    "name": "ipython",
    "version": 3
   },
   "file_extension": ".py",
   "mimetype": "text/x-python",
   "name": "python",
   "nbconvert_exporter": "python",
   "pygments_lexer": "ipython3",
   "version": "3.8.5"
  }
 },
 "nbformat": 4,
 "nbformat_minor": 2
}
